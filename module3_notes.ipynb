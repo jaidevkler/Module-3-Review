{
 "cells": [
  {
   "cell_type": "code",
   "execution_count": null,
   "id": "dc5bd872",
   "metadata": {},
   "outputs": [],
   "source": [
    "# Module 3 Notes"
   ]
  },
  {
   "cell_type": "code",
   "execution_count": 1,
   "id": "e70af829",
   "metadata": {},
   "outputs": [],
   "source": [
    "# Functions"
   ]
  },
  {
   "cell_type": "code",
   "execution_count": 2,
   "id": "2febb755",
   "metadata": {},
   "outputs": [],
   "source": [
    "def hello():\n",
    "    print(\"Hello\")"
   ]
  },
  {
   "cell_type": "code",
   "execution_count": 3,
   "id": "3b1073fa",
   "metadata": {},
   "outputs": [
    {
     "name": "stdout",
     "output_type": "stream",
     "text": [
      "Hello\n"
     ]
    }
   ],
   "source": [
    "hello()"
   ]
  },
  {
   "cell_type": "code",
   "execution_count": 4,
   "id": "722de4f8",
   "metadata": {},
   "outputs": [],
   "source": [
    "def square(number): # Parameters\n",
    "    print(number ** 2)"
   ]
  },
  {
   "cell_type": "code",
   "execution_count": 5,
   "id": "c3184e69",
   "metadata": {},
   "outputs": [
    {
     "name": "stdout",
     "output_type": "stream",
     "text": [
      "9\n"
     ]
    }
   ],
   "source": [
    "square(3) # Arguments"
   ]
  },
  {
   "cell_type": "code",
   "execution_count": 6,
   "id": "292da9ae",
   "metadata": {},
   "outputs": [],
   "source": [
    "# Local variable vs global variable"
   ]
  },
  {
   "cell_type": "code",
   "execution_count": 7,
   "id": "4073ef35",
   "metadata": {},
   "outputs": [],
   "source": [
    "height = 6 # Global"
   ]
  },
  {
   "cell_type": "code",
   "execution_count": 8,
   "id": "34e1d1bf",
   "metadata": {},
   "outputs": [],
   "source": [
    "def change_height(): # Local to the function\n",
    "    height = 5\n",
    "    print(height)"
   ]
  },
  {
   "cell_type": "code",
   "execution_count": 9,
   "id": "d3314bcf",
   "metadata": {},
   "outputs": [
    {
     "name": "stdout",
     "output_type": "stream",
     "text": [
      "5\n"
     ]
    }
   ],
   "source": [
    "change_height()"
   ]
  },
  {
   "cell_type": "code",
   "execution_count": 10,
   "id": "4422e6fa",
   "metadata": {},
   "outputs": [
    {
     "data": {
      "text/plain": [
       "6"
      ]
     },
     "execution_count": 10,
     "metadata": {},
     "output_type": "execute_result"
    }
   ],
   "source": [
    "height"
   ]
  },
  {
   "cell_type": "code",
   "execution_count": 11,
   "id": "78b8ae24",
   "metadata": {},
   "outputs": [],
   "source": [
    "# Positional arguments"
   ]
  },
  {
   "cell_type": "code",
   "execution_count": 12,
   "id": "8be76f2b",
   "metadata": {},
   "outputs": [],
   "source": [
    "def print_date(month, day, year):\n",
    "    print(f'The date is: {month} {day}, {year}')"
   ]
  },
  {
   "cell_type": "code",
   "execution_count": 13,
   "id": "8739d3c8",
   "metadata": {},
   "outputs": [
    {
     "name": "stdout",
     "output_type": "stream",
     "text": [
      "The date is: March 19, 2024\n"
     ]
    }
   ],
   "source": [
    "print_date('March', 19, 2024) # Positional arguments"
   ]
  },
  {
   "cell_type": "code",
   "execution_count": 14,
   "id": "9ddfb778",
   "metadata": {},
   "outputs": [
    {
     "name": "stdout",
     "output_type": "stream",
     "text": [
      "The date is: 2024 19, March\n"
     ]
    }
   ],
   "source": [
    "print_date(2024, 19, 'March') # Incorrect order of positional arguments"
   ]
  },
  {
   "cell_type": "code",
   "execution_count": 15,
   "id": "7819c040",
   "metadata": {},
   "outputs": [
    {
     "name": "stdout",
     "output_type": "stream",
     "text": [
      "The date is: March 19, 2024\n"
     ]
    }
   ],
   "source": [
    "print_date(year=2024, day=19, month='March') # keyword arguments"
   ]
  },
  {
   "cell_type": "code",
   "execution_count": 16,
   "id": "ffb802c2",
   "metadata": {},
   "outputs": [
    {
     "name": "stdout",
     "output_type": "stream",
     "text": [
      "The date is: March 19, 2024\n"
     ]
    }
   ],
   "source": [
    "print_date('March', year= 2024, day=19) # Positional and keyword arguments.\n",
    "# Note positional arguments have to be before keyword arguments"
   ]
  },
  {
   "cell_type": "code",
   "execution_count": 17,
   "id": "75db02ea",
   "metadata": {},
   "outputs": [],
   "source": [
    "# Iterable unpacking"
   ]
  },
  {
   "cell_type": "code",
   "execution_count": 18,
   "id": "fc8d41de",
   "metadata": {},
   "outputs": [],
   "source": [
    "date = ('March', 19, 2024)"
   ]
  },
  {
   "cell_type": "code",
   "execution_count": 19,
   "id": "6f948eb3",
   "metadata": {},
   "outputs": [
    {
     "name": "stdout",
     "output_type": "stream",
     "text": [
      "The date is: March 19, 2024\n"
     ]
    }
   ],
   "source": [
    "print_date(*date) # Unpack tuples or lists"
   ]
  },
  {
   "cell_type": "code",
   "execution_count": 20,
   "id": "dada0136",
   "metadata": {},
   "outputs": [],
   "source": [
    "date_dict = {\n",
    "    'year': 2024,\n",
    "    'day': 19,\n",
    "    'month': 'March'\n",
    "}"
   ]
  },
  {
   "cell_type": "code",
   "execution_count": 21,
   "id": "48a7a3d2",
   "metadata": {},
   "outputs": [
    {
     "name": "stdout",
     "output_type": "stream",
     "text": [
      "The date is: March 19, 2024\n"
     ]
    }
   ],
   "source": [
    "print_date(**date_dict) # Unpacking the dictionary values"
   ]
  },
  {
   "cell_type": "code",
   "execution_count": 22,
   "id": "133315a9",
   "metadata": {},
   "outputs": [
    {
     "name": "stdout",
     "output_type": "stream",
     "text": [
      "The date is: year day, month\n"
     ]
    }
   ],
   "source": [
    "print_date(*date_dict) # Unpacking the dictionary keys"
   ]
  },
  {
   "cell_type": "code",
   "execution_count": 23,
   "id": "55aa95bf",
   "metadata": {},
   "outputs": [],
   "source": [
    "# Returning values"
   ]
  },
  {
   "cell_type": "code",
   "execution_count": 24,
   "id": "da699bcf",
   "metadata": {},
   "outputs": [],
   "source": [
    "def calculate_average(numbers):\n",
    "    average = sum(numbers)/len(numbers)\n",
    "    return average"
   ]
  },
  {
   "cell_type": "code",
   "execution_count": 25,
   "id": "9aa7225f",
   "metadata": {},
   "outputs": [
    {
     "name": "stdout",
     "output_type": "stream",
     "text": [
      "5.0\n"
     ]
    }
   ],
   "source": [
    "average = calculate_average([2,3,4,5,6,7,8])\n",
    "print(average)"
   ]
  },
  {
   "cell_type": "code",
   "execution_count": 26,
   "id": "d8514082",
   "metadata": {},
   "outputs": [],
   "source": [
    "# Anonymous and built-in functions - map, lambda, filter"
   ]
  },
  {
   "cell_type": "code",
   "execution_count": 27,
   "id": "3fbd685f",
   "metadata": {},
   "outputs": [],
   "source": [
    "# map function"
   ]
  },
  {
   "cell_type": "code",
   "execution_count": 28,
   "id": "75a0aa9d",
   "metadata": {},
   "outputs": [],
   "source": [
    "def divide_by_5(number):\n",
    "    return number//5"
   ]
  },
  {
   "cell_type": "code",
   "execution_count": 29,
   "id": "8d6fd345",
   "metadata": {},
   "outputs": [
    {
     "data": {
      "text/plain": [
       "25"
      ]
     },
     "execution_count": 29,
     "metadata": {},
     "output_type": "execute_result"
    }
   ],
   "source": [
    "divide_by_5(125)"
   ]
  },
  {
   "cell_type": "code",
   "execution_count": 30,
   "id": "b21742fe",
   "metadata": {},
   "outputs": [],
   "source": [
    "# Two arguments: function, iterable\n",
    "map_function = map(divide_by_5,(5,10,15,20,25,30,25,40))"
   ]
  },
  {
   "cell_type": "code",
   "execution_count": 31,
   "id": "0a2ddaef",
   "metadata": {},
   "outputs": [
    {
     "name": "stdout",
     "output_type": "stream",
     "text": [
      "<map object at 0x106127250>\n"
     ]
    }
   ],
   "source": [
    "print(map_function)"
   ]
  },
  {
   "cell_type": "code",
   "execution_count": 32,
   "id": "8ed2894f",
   "metadata": {},
   "outputs": [
    {
     "data": {
      "text/plain": [
       "[1, 2, 3, 4, 5, 6, 5, 8]"
      ]
     },
     "execution_count": 32,
     "metadata": {},
     "output_type": "execute_result"
    }
   ],
   "source": [
    "list(map_function)"
   ]
  },
  {
   "cell_type": "code",
   "execution_count": 33,
   "id": "4d274cd6",
   "metadata": {},
   "outputs": [],
   "source": [
    "# lambda function"
   ]
  },
  {
   "cell_type": "code",
   "execution_count": 34,
   "id": "7a689eaa",
   "metadata": {},
   "outputs": [],
   "source": [
    "def square(num): if num < 10: return num*num else: return(\"Cant process on this computer\")"
   ]
  },
  {
   "cell_type": "code",
   "execution_count": 35,
   "id": "aafe2812",
   "metadata": {},
   "outputs": [],
   "source": []
  },
  {
   "cell_type": "code",
   "execution_count": 41,
   "id": "b134c4d0",
   "metadata": {},
   "outputs": [],
   "source": [
    "square = lambda num: num*num  if num < 10 else \"Cant process on this computer\""
   ]
  },
  {
   "cell_type": "code",
   "execution_count": 43,
   "id": "8e2cc200",
   "metadata": {},
   "outputs": [
    {
     "data": {
      "text/plain": [
       "'Cant process on this computer'"
      ]
     },
     "execution_count": 43,
     "metadata": {},
     "output_type": "execute_result"
    }
   ],
   "source": [
    "square(12)"
   ]
  },
  {
   "cell_type": "code",
   "execution_count": null,
   "id": "40db5a6c",
   "metadata": {},
   "outputs": [],
   "source": [
    "map_function = map(lambda num: num**2,(1,2,3,4,5))"
   ]
  },
  {
   "cell_type": "code",
   "execution_count": null,
   "id": "debb8fd5",
   "metadata": {},
   "outputs": [],
   "source": []
  },
  {
   "cell_type": "code",
   "execution_count": null,
   "id": "cebd7cb8",
   "metadata": {},
   "outputs": [],
   "source": [
    "list(map_function)"
   ]
  },
  {
   "cell_type": "code",
   "execution_count": null,
   "id": "a805c8a9",
   "metadata": {},
   "outputs": [],
   "source": [
    "# filter function"
   ]
  },
  {
   "cell_type": "code",
   "execution_count": null,
   "id": "0f346dc7",
   "metadata": {},
   "outputs": [],
   "source": [
    "# filter(function, iterable)"
   ]
  },
  {
   "cell_type": "code",
   "execution_count": null,
   "id": "020c64c8",
   "metadata": {},
   "outputs": [],
   "source": [
    "numbers = [1, 2, 3, 4, 5, 6, 7, 8, 9, 10]"
   ]
  },
  {
   "cell_type": "code",
   "execution_count": null,
   "id": "3425f997",
   "metadata": {},
   "outputs": [],
   "source": [
    "def get_even(numbers): \n",
    "    new_list = []\n",
    "    for number in numbers:\n",
    "        if number % 2 == 0:\n",
    "            new_list.append(number)\n",
    "    return new_list\n",
    "\n",
    "get_even(numbers)"
   ]
  },
  {
   "cell_type": "code",
   "execution_count": null,
   "id": "b8a112c5",
   "metadata": {},
   "outputs": [],
   "source": [
    "list(filter(lambda x: x % 2 == 0, numbers))"
   ]
  },
  {
   "cell_type": "code",
   "execution_count": null,
   "id": "a0b13e67",
   "metadata": {},
   "outputs": [],
   "source": [
    "# Commenting code"
   ]
  },
  {
   "cell_type": "code",
   "execution_count": null,
   "id": "1ba39061",
   "metadata": {},
   "outputs": [],
   "source": [
    "\"\"\"Docstring\"\"\""
   ]
  },
  {
   "cell_type": "code",
   "execution_count": null,
   "id": "52fd7afe",
   "metadata": {},
   "outputs": [],
   "source": [
    "'''Docstring'''"
   ]
  },
  {
   "cell_type": "code",
   "execution_count": null,
   "id": "4977ee8c",
   "metadata": {},
   "outputs": [],
   "source": [
    "# Importing modules and functions"
   ]
  },
  {
   "cell_type": "code",
   "execution_count": null,
   "id": "93c877ce",
   "metadata": {},
   "outputs": [],
   "source": [
    "# Math module"
   ]
  },
  {
   "cell_type": "code",
   "execution_count": null,
   "id": "666d2a03",
   "metadata": {},
   "outputs": [],
   "source": [
    "from math import sqrt # math module and sqrt function"
   ]
  },
  {
   "cell_type": "code",
   "execution_count": null,
   "id": "ed398f09",
   "metadata": {},
   "outputs": [],
   "source": [
    "number = 9"
   ]
  },
  {
   "cell_type": "code",
   "execution_count": null,
   "id": "342d9bce",
   "metadata": {},
   "outputs": [],
   "source": [
    "sqrt(number)"
   ]
  },
  {
   "cell_type": "code",
   "execution_count": null,
   "id": "89ce279b",
   "metadata": {},
   "outputs": [],
   "source": [
    "# random module"
   ]
  },
  {
   "cell_type": "code",
   "execution_count": null,
   "id": "64ccd557",
   "metadata": {},
   "outputs": [],
   "source": [
    "from random import randint, choice"
   ]
  },
  {
   "cell_type": "code",
   "execution_count": null,
   "id": "bdedf404",
   "metadata": {},
   "outputs": [],
   "source": [
    "my_list = ['apple', 'banana', 'orange', 'grape',\n",
    "'mango']"
   ]
  },
  {
   "cell_type": "code",
   "execution_count": null,
   "id": "d5fc3425",
   "metadata": {},
   "outputs": [],
   "source": [
    "choice(my_list)"
   ]
  },
  {
   "cell_type": "code",
   "execution_count": null,
   "id": "18fa01a7",
   "metadata": {},
   "outputs": [],
   "source": [
    "randint(1,10)"
   ]
  },
  {
   "cell_type": "code",
   "execution_count": null,
   "id": "d29dd14b",
   "metadata": {},
   "outputs": [],
   "source": [
    "randint(1,100)"
   ]
  },
  {
   "cell_type": "code",
   "execution_count": null,
   "id": "b60763c0",
   "metadata": {},
   "outputs": [],
   "source": [
    "# datetime module"
   ]
  },
  {
   "cell_type": "code",
   "execution_count": null,
   "id": "3e231fe5",
   "metadata": {},
   "outputs": [],
   "source": [
    "from datetime import datetime, date"
   ]
  },
  {
   "cell_type": "code",
   "execution_count": null,
   "id": "5c5de4f8",
   "metadata": {},
   "outputs": [],
   "source": [
    "current_datetime = datetime.now()"
   ]
  },
  {
   "cell_type": "code",
   "execution_count": null,
   "id": "56a4ce31",
   "metadata": {},
   "outputs": [],
   "source": [
    "current_datetime.strftime(\"%H:%M:%S\")"
   ]
  },
  {
   "cell_type": "code",
   "execution_count": null,
   "id": "b773d021",
   "metadata": {},
   "outputs": [],
   "source": [
    "print(date.today())"
   ]
  },
  {
   "cell_type": "code",
   "execution_count": null,
   "id": "10013290",
   "metadata": {},
   "outputs": [],
   "source": [
    "# Importing local functions"
   ]
  },
  {
   "cell_type": "code",
   "execution_count": null,
   "id": "d3c6a6c3",
   "metadata": {},
   "outputs": [],
   "source": [
    "from CarLoan import calculate_future_value # From CarLoan.py import calculate_future_value function"
   ]
  },
  {
   "cell_type": "code",
   "execution_count": null,
   "id": "b233f6f9",
   "metadata": {},
   "outputs": [],
   "source": [
    "new_car_loan = {\n",
    "    \"current_loan_value\": 25000,\n",
    "    \"months_remaining\": 12,\n",
    "    \"annual_interest_rate\": 0.0315\n",
    "    }"
   ]
  },
  {
   "cell_type": "code",
   "execution_count": null,
   "id": "82992513",
   "metadata": {},
   "outputs": [],
   "source": [
    "car_value = calculate_future_value(\n",
    "    new_car_loan[\"current_loan_value\"],\n",
    "    new_car_loan[\"annual_interest_rate\"],\n",
    "    new_car_loan[\"months_remaining\"]\n",
    "    )"
   ]
  },
  {
   "cell_type": "code",
   "execution_count": null,
   "id": "8e7482c5",
   "metadata": {},
   "outputs": [],
   "source": [
    "print(f\"The future value of the car is ${car_value: ,.2f}.\")"
   ]
  },
  {
   "cell_type": "code",
   "execution_count": null,
   "id": "cd30889b",
   "metadata": {},
   "outputs": [],
   "source": [
    "# Refactoring code"
   ]
  },
  {
   "cell_type": "code",
   "execution_count": null,
   "id": "69bd6f43",
   "metadata": {},
   "outputs": [],
   "source": [
    "# enumerate()"
   ]
  },
  {
   "cell_type": "code",
   "execution_count": null,
   "id": "4fd9830b",
   "metadata": {},
   "outputs": [],
   "source": [
    "numbers = [10, 20, 30, 40, 50]\n",
    "for i in range(len(numbers)):\n",
    "    print(f\"Index: {i}, Value:{numbers[i]}\")"
   ]
  },
  {
   "cell_type": "code",
   "execution_count": null,
   "id": "4d4dd368",
   "metadata": {},
   "outputs": [],
   "source": [
    "numbers = [10, 20, 30, 40, 50]\n",
    "for i, num in enumerate(numbers):\n",
    "    print(f\"Index: {i}, Value: {num}\")"
   ]
  },
  {
   "cell_type": "code",
   "execution_count": null,
   "id": "875c5006",
   "metadata": {},
   "outputs": [],
   "source": [
    "list(enumerate(numbers)) # enumate makes a list of tuples"
   ]
  },
  {
   "cell_type": "code",
   "execution_count": null,
   "id": "2c3a77ab",
   "metadata": {},
   "outputs": [],
   "source": [
    "# User stories - short statements that describes how a type of user needs to interact with a\n",
    "# feature in a program"
   ]
  },
  {
   "cell_type": "code",
   "execution_count": null,
   "id": "8958c060",
   "metadata": {},
   "outputs": [],
   "source": [
    "# Basic ATM Application"
   ]
  },
  {
   "cell_type": "code",
   "execution_count": null,
   "id": "7495be7f",
   "metadata": {},
   "outputs": [],
   "source": [
    "accounts = [\n",
    "    {\n",
    "    \"pin\": 123456,\n",
    "    \"balance\" : 1436.19},\n",
    "    {\n",
    "    \"pin\" : 246802,\n",
    "    \"balance\": 3571.87},\n",
    "    {\n",
    "    \"pin\": 135791,\n",
    "    \"balance\" : 543.79},\n",
    "    {\n",
    "    \"pin\" : 123987,\n",
    "    \"balance\": 25.89},\n",
    "    {\n",
    "    \"pin\" : 269731,\n",
    "    \"balance\": 3278.42\n",
    "    }\n",
    "]"
   ]
  },
  {
   "cell_type": "code",
   "execution_count": null,
   "id": "b169089b",
   "metadata": {},
   "outputs": [],
   "source": [
    "def login(pin):\n",
    "    \n",
    "    for account in accounts:\n",
    "        if int(pin) == account[\"pin\"]:\n",
    "            print(f\"The account balance for PIN {account['pin']} is:\"\n",
    "                  f\"${account['balance']: ,.2f}.\")\n"
   ]
  },
  {
   "cell_type": "code",
   "execution_count": null,
   "id": "5766038f",
   "metadata": {},
   "outputs": [],
   "source": [
    "if __name__ == \"__main__\":\n",
    "    # Set the function call equal to a variable called account_balance.\n",
    "    account_balance = login(246802)"
   ]
  },
  {
   "cell_type": "code",
   "execution_count": null,
   "id": "c59f313f",
   "metadata": {},
   "outputs": [],
   "source": [
    "# ATM additional functions - 08"
   ]
  },
  {
   "cell_type": "code",
   "execution_count": null,
   "id": "586e9052",
   "metadata": {},
   "outputs": [],
   "source": [
    "def check_balance(account_balance):\n",
    "    print(f\"The balance in your account is ${account_balance}.\")"
   ]
  },
  {
   "cell_type": "code",
   "execution_count": null,
   "id": "ec7fdc10",
   "metadata": {},
   "outputs": [],
   "source": [
    "def make_deposit(account_balance, deposit):\n",
    "    \n",
    "    deposit_balance = account_balance\n",
    "\n",
    "    if deposit > 0:\n",
    "        deposit_balance = account_balance + deposit\n",
    "        print(f\"The new balance of your account is ${deposit_balance}.\")\n",
    "    else:\n",
    "        print(\"Your deposit amount must be positive.\")\n",
    "    return deposit_balance"
   ]
  },
  {
   "cell_type": "code",
   "execution_count": null,
   "id": "9c4e30a9",
   "metadata": {},
   "outputs": [],
   "source": [
    "def make_withdrawal(account_balance, withdrawal):\n",
    "    if account_balance > withdrawal:\n",
    "        withdrawal_balance = account_balance - withdrawal\n",
    "        print(f\"The new balance of your account is ${withdrawal_balance}.\")\n",
    "    else:\n",
    "        print(\"You do not have the funds to make this withdrawal.\")\n",
    "    return withdrawal_balance"
   ]
  },
  {
   "cell_type": "code",
   "execution_count": null,
   "id": "fb9c9320",
   "metadata": {},
   "outputs": [],
   "source": [
    "# ATM Application structure - modular design"
   ]
  },
  {
   "cell_type": "code",
   "execution_count": null,
   "id": "71786337",
   "metadata": {},
   "outputs": [],
   "source": [
    "# Object oriented programming - is centered on creating objects.\n",
    "# You can thinnk of an object as a wrapper for a group of related code\n",
    "# properties and behaviors"
   ]
  },
  {
   "cell_type": "code",
   "execution_count": null,
   "id": "8e259ac3",
   "metadata": {},
   "outputs": [],
   "source": [
    "# An object is a software entity that contains both data and procedures"
   ]
  },
  {
   "cell_type": "code",
   "execution_count": null,
   "id": "3b7e13e3",
   "metadata": {},
   "outputs": [],
   "source": [
    "# Python classes - as as a blueprint that specifies the properties and\n",
    "# behaviors of an object or instance"
   ]
  },
  {
   "cell_type": "code",
   "execution_count": null,
   "id": "f608aeef",
   "metadata": {},
   "outputs": [],
   "source": [
    "class Car:\n",
    "    def __init__(self, make,model): \n",
    "        self.make = make\n",
    "        self.model = model"
   ]
  },
  {
   "cell_type": "code",
   "execution_count": null,
   "id": "cf12116a",
   "metadata": {},
   "outputs": [],
   "source": [
    "# __init__() Constructor"
   ]
  },
  {
   "cell_type": "code",
   "execution_count": null,
   "id": "6aacbf77",
   "metadata": {},
   "outputs": [],
   "source": [
    "# __init__ constructor or method is responsible for assigning the initial\n",
    "# state of those attributes. \n",
    "# First parameter is always going to be self - a refernce to the object itself"
   ]
  },
  {
   "cell_type": "code",
   "execution_count": null,
   "id": "18da71f7",
   "metadata": {},
   "outputs": [],
   "source": [
    "# Class instance variables"
   ]
  },
  {
   "cell_type": "code",
   "execution_count": null,
   "id": "a90046f2",
   "metadata": {},
   "outputs": [],
   "source": [
    "# Instance variables store the information passed on to the parameters\n",
    "# self.make = make"
   ]
  },
  {
   "cell_type": "code",
   "execution_count": null,
   "id": "a9620963",
   "metadata": {},
   "outputs": [],
   "source": [
    "# Class instances"
   ]
  },
  {
   "cell_type": "code",
   "execution_count": null,
   "id": "df9df328",
   "metadata": {},
   "outputs": [],
   "source": [
    "my_car = Car(\"BMW\",\"M5\")"
   ]
  },
  {
   "cell_type": "code",
   "execution_count": null,
   "id": "b0011f75",
   "metadata": {},
   "outputs": [],
   "source": [
    "print(f'I have a {my_car.make} {my_car.model}')"
   ]
  },
  {
   "cell_type": "code",
   "execution_count": null,
   "id": "26e70c89",
   "metadata": {},
   "outputs": [],
   "source": [
    "# Creating a method for a class"
   ]
  },
  {
   "cell_type": "code",
   "execution_count": null,
   "id": "e4c07b9b",
   "metadata": {},
   "outputs": [],
   "source": [
    "class Car:\n",
    "    def __init__(self, make,model): \n",
    "        self.make = make\n",
    "        self.model = model\n",
    "    def get_make(self): # getter method to get the attribute\n",
    "        return self.make"
   ]
  },
  {
   "cell_type": "code",
   "execution_count": null,
   "id": "8c99bd2a",
   "metadata": {},
   "outputs": [],
   "source": [
    "my_car = Car(\"BMW\",\"M5\")"
   ]
  },
  {
   "cell_type": "code",
   "execution_count": null,
   "id": "e46e39dc",
   "metadata": {},
   "outputs": [],
   "source": [
    "print(f'I have a {my_car.get_make()}')"
   ]
  },
  {
   "cell_type": "code",
   "execution_count": null,
   "id": "362d88ac",
   "metadata": {},
   "outputs": [],
   "source": [
    "# Manipulating the attributes of an instance"
   ]
  },
  {
   "cell_type": "code",
   "execution_count": null,
   "id": "158ca8e5",
   "metadata": {},
   "outputs": [],
   "source": [
    "class Car:\n",
    "    def __init__(self, make,model): \n",
    "        self.make = make\n",
    "        self.model = model\n",
    "    def get_make(self): # getter method to get the attribute\n",
    "        return self.make\n",
    "    def set_make(self, new_make): # setter method\n",
    "        self.make = new_make "
   ]
  },
  {
   "cell_type": "code",
   "execution_count": null,
   "id": "9035fdb1",
   "metadata": {},
   "outputs": [],
   "source": [
    "my_car = Car(\"BMW\",\"M5\")"
   ]
  },
  {
   "cell_type": "code",
   "execution_count": null,
   "id": "3175d3ac",
   "metadata": {},
   "outputs": [],
   "source": [
    "my_car.set_make(\"Toyota\")"
   ]
  },
  {
   "cell_type": "code",
   "execution_count": null,
   "id": "09ec0215",
   "metadata": {},
   "outputs": [],
   "source": [
    "print(f'I have a {my_car.get_make()}')"
   ]
  },
  {
   "cell_type": "code",
   "execution_count": null,
   "id": "9e157e32",
   "metadata": {},
   "outputs": [],
   "source": [
    "# Storing classes as modules"
   ]
  },
  {
   "cell_type": "code",
   "execution_count": null,
   "id": "e4677905",
   "metadata": {},
   "outputs": [],
   "source": [
    "# Save the above class as Car.py"
   ]
  },
  {
   "cell_type": "code",
   "execution_count": null,
   "id": "dcb97b78",
   "metadata": {},
   "outputs": [],
   "source": [
    "from Car import Car"
   ]
  },
  {
   "cell_type": "code",
   "execution_count": null,
   "id": "bd3daa87",
   "metadata": {},
   "outputs": [],
   "source": [
    "car = Car(\"Subaru\", \"CrossTrek Limited\")"
   ]
  },
  {
   "cell_type": "code",
   "execution_count": null,
   "id": "b34f1988",
   "metadata": {},
   "outputs": [],
   "source": [
    "print('Here are the details of the car.') \n",
    "print(f\"Make: {car.get_make()}\")\n",
    "print(f\"Model: {car.get_model()}\")"
   ]
  },
  {
   "cell_type": "code",
   "execution_count": null,
   "id": "8556e396",
   "metadata": {},
   "outputs": [],
   "source": [
    "# Storing classes as modules"
   ]
  },
  {
   "cell_type": "code",
   "execution_count": null,
   "id": "d777fdc9",
   "metadata": {},
   "outputs": [],
   "source": [
    "# Define the Car class\n",
    "class Car:\n",
    "    \"\"\"Creating a Car class with methods\"\"\"\n",
    "    def __init__(self, make, model, body, engine, year, color):\n",
    "        self.make = make\n",
    "        self.model = model\n",
    "        self.body = body\n",
    "        self.engine = engine\n",
    "        self.year = year\n",
    "        self.color = color\n",
    "\n",
    "    # Create a method to get the make of the car\n",
    "    def get_make(self):\n",
    "        \"\"\"Returns the make of the car\"\"\"\n",
    "        return self.make\n",
    "\n",
    "    # Create a method to get the model of the car\n",
    "    def get_model(self):\n",
    "       \"\"\"Returns the model of the car\"\"\"\n",
    "       return self.model\n",
    "\n",
    "    # Create a method to get the body of the car\n",
    "    def get_body(self):\n",
    "        \"\"\"Returns the body of the car\"\"\"\n",
    "        return self.body\n",
    "\n",
    "    # Create a method to get the engine of the car\n",
    "    def get_engine(self):\n",
    "       \"\"\"Returns the engine of the car\"\"\"\n",
    "       return self.engine\n",
    "\n",
    "    # Create a method to get the year of the car\n",
    "    def get_year(self):\n",
    "        \"\"\"Returns the year of the car\"\"\"\n",
    "        return self.year\n",
    "\n",
    "    # Create a method to get the color of the car\n",
    "    def get_color(self):\n",
    "       \"\"\"Returns the color of the car\"\"\"\n",
    "       return self.color\n",
    "\n",
    "    # Create a method to change the model of the car\n",
    "    def set_model(self, new_model):\n",
    "        \"\"\"Sets the make of the car\"\"\"\n",
    "        self.model = new_model\n"
   ]
  },
  {
   "cell_type": "code",
   "execution_count": null,
   "id": "ba4fc86b",
   "metadata": {},
   "outputs": [],
   "source": [
    "# Define the subclass or child class\n",
    "class CarExtras(Car):\n",
    "    \"\"\"Creating a CarExtras class with methods\"\"\"\n",
    "    def __init__(self, make, model, body, engine, year, color, anti_theft, alarm, tint, ext_warranty):\n",
    "        # Call the parent class's __init__ method and pass the required arguments.\n",
    "        Car.__init__(self, make, model, body, engine, year, color)\n",
    "\n",
    "        # Initialize the attributes for the CarExtras class.\n",
    "        self.anti_theft = anti_theft\n",
    "        self.alarm = alarm\n",
    "        self.tint = tint\n",
    "        self.ext_warranty = ext_warranty\n",
    "\n",
    "    def get_anti_theft(self):\n",
    "        \"\"\"Sets the antitheft for the car\"\"\"\n",
    "        return self.anti_theft\n",
    "\n",
    "    def get_alarm(self):\n",
    "        \"\"\"Sets the alarm for the car\"\"\"\n",
    "        return self.alarm\n",
    "\n",
    "    def get_tint(self):\n",
    "        \"\"\"Sets the tint for the car\"\"\"\n",
    "        return self.tint\n",
    "\n",
    "    def get_ext_warranty(self):\n",
    "        \"\"\"Sets the extended warranty for the car\"\"\"\n",
    "        return self.ext_warranty"
   ]
  },
  {
   "cell_type": "code",
   "execution_count": null,
   "id": "c0d93414",
   "metadata": {},
   "outputs": [],
   "source": [
    "my_car = CarExtras(\"Toyota\", \"Camry\", \"Sedan\", \"2.5L\", 2022, \"Silver\", \"Yes\", \"Yes\", \"No\", \"No\")"
   ]
  },
  {
   "cell_type": "code",
   "execution_count": null,
   "id": "9249f0fb",
   "metadata": {},
   "outputs": [],
   "source": [
    "my_car.set_model(\"Crown XLE\")"
   ]
  },
  {
   "cell_type": "code",
   "execution_count": null,
   "id": "23d93e1a",
   "metadata": {},
   "outputs": [],
   "source": [
    "print('Here are the details of the car.')\n",
    "print(f\"Make: {my_car.get_make()}\")\n",
    "print(f\"Model: {my_car.get_model()}\")\n",
    "print(f\"Body: {my_car.get_body()}\")\n",
    "print(f\"Engine Type: {my_car.get_engine()}\")\n",
    "print(f\"Year made: {my_car.get_year()}\")\n",
    "print(f\"Color: {my_car.get_color()}\")\n",
    "print(f\"Anti-Theft: {my_car.get_anti_theft()}\")\n",
    "print(f\"Alarm: {my_car.get_alarm()}\")\n",
    "print(f\"Tint: {my_car.get_tint()}\")\n",
    "print(f\"Extended Warranty: {my_car.get_ext_warranty()}\")\n"
   ]
  },
  {
   "cell_type": "code",
   "execution_count": null,
   "id": "9fe3b711",
   "metadata": {},
   "outputs": [],
   "source": []
  },
  {
   "cell_type": "code",
   "execution_count": null,
   "id": "ff6b5e6b",
   "metadata": {},
   "outputs": [],
   "source": []
  }
 ],
 "metadata": {
  "kernelspec": {
   "display_name": "Python 3 (ipykernel)",
   "language": "python",
   "name": "python3"
  },
  "language_info": {
   "codemirror_mode": {
    "name": "ipython",
    "version": 3
   },
   "file_extension": ".py",
   "mimetype": "text/x-python",
   "name": "python",
   "nbconvert_exporter": "python",
   "pygments_lexer": "ipython3",
   "version": "3.11.5"
  }
 },
 "nbformat": 4,
 "nbformat_minor": 5
}
